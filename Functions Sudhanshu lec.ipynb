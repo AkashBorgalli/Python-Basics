{
 "cells": [
  {
   "cell_type": "code",
   "execution_count": 34,
   "metadata": {},
   "outputs": [],
   "source": [
    "## above code will give error we pass ambigious data\n",
    "def test1(*args):\n",
    "    t = []\n",
    "    for i in args:\n",
    "        t = t+i\n",
    "    return t"
   ]
  },
  {
   "cell_type": "code",
   "execution_count": 35,
   "metadata": {},
   "outputs": [
    {
     "data": {
      "text/plain": [
       "[123, 4, 5, 6, 'Akash', 2, 3, 4]"
      ]
     },
     "execution_count": 35,
     "metadata": {},
     "output_type": "execute_result"
    }
   ],
   "source": [
    "test1([123],[4,5,6],[\"Akash\",2,3,4])"
   ]
  },
  {
   "cell_type": "code",
   "execution_count": 36,
   "metadata": {},
   "outputs": [],
   "source": [
    "## restrict function to only list\n",
    "def test1(*args):\n",
    "    t = []\n",
    "    for i in args:\n",
    "        if type(i) == list:\n",
    "            t = t+i\n",
    "    return t"
   ]
  },
  {
   "cell_type": "code",
   "execution_count": 37,
   "metadata": {},
   "outputs": [
    {
     "data": {
      "text/plain": [
       "[123, 'Akash', 2, 3, 4]"
      ]
     },
     "execution_count": 37,
     "metadata": {},
     "output_type": "execute_result"
    }
   ],
   "source": [
    "## only concatinate list type\n",
    "test1([123],9,0,7,[\"Akash\",2,3,4],True,False,14.4)"
   ]
  },
  {
   "cell_type": "code",
   "execution_count": 1,
   "metadata": {},
   "outputs": [],
   "source": [
    "def test2(*args):\n",
    "    a,b,k,t = [],[],[],[]\n",
    "    for i in args:\n",
    "        if type(i) == list:\n",
    "            t = t+i\n",
    "        elif type(i) == int:\n",
    "            a.append(i)\n",
    "        elif type(i) == dict:\n",
    "            b.append(i)\n",
    "        elif type(i) == float:\n",
    "            k.append(i)\n",
    "    return a,b,k,t"
   ]
  },
  {
   "cell_type": "code",
   "execution_count": 2,
   "metadata": {},
   "outputs": [
    {
     "data": {
      "text/plain": [
       "([2, 3, 4],\n",
       " [{'a': 'car'}, {'test': 'merd'}],\n",
       " [13.4, 56.7, 90.12],\n",
       " ['Ramesh', 99, 88, 44, 55, True, 'Stephenwolf'])"
      ]
     },
     "execution_count": 2,
     "metadata": {},
     "output_type": "execute_result"
    }
   ],
   "source": [
    "test2(2,3,4,[\"Ramesh\",99,88],13.4,56.7,90.12,[44,55,True,\"Stephenwolf\"],{'a':'car'},{'test':'merd'})"
   ]
  },
  {
   "cell_type": "code",
   "execution_count": 44,
   "metadata": {},
   "outputs": [],
   "source": [
    "f = {'a':'base','b':'case'}"
   ]
  },
  {
   "cell_type": "code",
   "execution_count": 49,
   "metadata": {},
   "outputs": [
    {
     "data": {
      "text/plain": [
       "['base', 'case']"
      ]
     },
     "execution_count": 49,
     "metadata": {},
     "output_type": "execute_result"
    }
   ],
   "source": [
    "list(f.values())"
   ]
  },
  {
   "cell_type": "code",
   "execution_count": 46,
   "metadata": {},
   "outputs": [],
   "source": [
    "r = {}"
   ]
  },
  {
   "cell_type": "code",
   "execution_count": 52,
   "metadata": {},
   "outputs": [],
   "source": [
    "z = 12.5\n",
    "x = []"
   ]
  },
  {
   "cell_type": "code",
   "execution_count": 53,
   "metadata": {},
   "outputs": [],
   "source": [
    "x.append(z)"
   ]
  },
  {
   "cell_type": "code",
   "execution_count": 54,
   "metadata": {},
   "outputs": [
    {
     "data": {
      "text/plain": [
       "[12.5]"
      ]
     },
     "execution_count": 54,
     "metadata": {},
     "output_type": "execute_result"
    }
   ],
   "source": [
    "x"
   ]
  },
  {
   "cell_type": "code",
   "execution_count": 7,
   "metadata": {},
   "outputs": [],
   "source": [
    "def test14(*args,**kwargs):\n",
    "    q,c=[],[]\n",
    "    for i in args:\n",
    "        if type(i) == list:\n",
    "            q = q+i\n",
    "    for j in kwargs:\n",
    "        if type(j) == list:\n",
    "            c = c+j\n",
    "    return q,c"
   ]
  },
  {
   "cell_type": "code",
   "execution_count": 8,
   "metadata": {},
   "outputs": [
    {
     "data": {
      "text/plain": [
       "([45, 67, 89, 12, 24, 36], [])"
      ]
     },
     "execution_count": 8,
     "metadata": {},
     "output_type": "execute_result"
    }
   ],
   "source": [
    "test14([45,67,89],[12,24,36],tin = [12,14],mart=[\"Ak\",True])"
   ]
  },
  {
   "cell_type": "code",
   "execution_count": 13,
   "metadata": {},
   "outputs": [],
   "source": [
    "def test19(*args,**kwargs):\n",
    "    l = [i for i in args if type(i) == list]\n",
    "## i[1] is nothing but value of dict\n",
    "    d = [i[1] for i in kwargs.items() if type(i[1]) == list]\n",
    "    return l,d"
   ]
  },
  {
   "cell_type": "code",
   "execution_count": 15,
   "metadata": {},
   "outputs": [
    {
     "data": {
      "text/plain": [
       "([[45, 67, 89], [12, 24, 36]], [[12, 14], ['Ak', True]])"
      ]
     },
     "execution_count": 15,
     "metadata": {},
     "output_type": "execute_result"
    }
   ],
   "source": [
    "test19([45,67,89],[12,24,36],tin = [12,14],mart=[\"Ak\",True],n =12.5)"
   ]
  },
  {
   "cell_type": "code",
   "execution_count": 17,
   "metadata": {},
   "outputs": [],
   "source": [
    "## very dynamic and generic if you havent defined any type of list in function it should create that type of list\n",
    "def latestargsfun(*args):\n",
    "    dt = {}\n",
    "    for i in args:\n",
    "        if type(i) in dt:\n",
    "            dt[type(i)].append(i)\n",
    "        else:\n",
    "            dt[type(i)] = [i]\n",
    "    return dt"
   ]
  },
  {
   "cell_type": "code",
   "execution_count": 19,
   "metadata": {},
   "outputs": [
    {
     "data": {
      "text/plain": [
       "{int: [1, 2, 3, 0, 9],\n",
       " list: [[3, 8, 9]],\n",
       " complex: [(2+9j), (14+6j)],\n",
       " str: ['Akash', 'Borgalli'],\n",
       " float: [77.2, 44.5],\n",
       " bool: [True, False],\n",
       " dict: [{'v': 't'}],\n",
       " tuple: [(23, 88, 'Ragox')]}"
      ]
     },
     "execution_count": 19,
     "metadata": {},
     "output_type": "execute_result"
    }
   ],
   "source": [
    "latestargsfun(1,2,3,[3,8,9],2+9j,14+6j,\"Akash\",\"Borgalli\",77.2,44.5,True,False,{'v':'t'},(23,88,\"Ragox\"),0,9)"
   ]
  },
  {
   "cell_type": "code",
   "execution_count": null,
   "metadata": {},
   "outputs": [],
   "source": []
  }
 ],
 "metadata": {
  "kernelspec": {
   "display_name": "Python 3",
   "language": "python",
   "name": "python3"
  },
  "language_info": {
   "codemirror_mode": {
    "name": "ipython",
    "version": 3
   },
   "file_extension": ".py",
   "mimetype": "text/x-python",
   "name": "python",
   "nbconvert_exporter": "python",
   "pygments_lexer": "ipython3",
   "version": "3.8.5"
  }
 },
 "nbformat": 4,
 "nbformat_minor": 4
}
