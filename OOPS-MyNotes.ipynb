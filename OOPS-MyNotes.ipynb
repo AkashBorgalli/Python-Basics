{
 "cells": [
  {
   "cell_type": "code",
   "execution_count": 1,
   "id": "2c09d688",
   "metadata": {},
   "outputs": [],
   "source": [
    "class car:\n",
    "    pass"
   ]
  },
  {
   "cell_type": "code",
   "execution_count": 2,
   "id": "bd0ef102",
   "metadata": {},
   "outputs": [],
   "source": [
    "audiq7= car()"
   ]
  },
  {
   "cell_type": "code",
   "execution_count": null,
   "id": "59d1586e",
   "metadata": {},
   "outputs": [],
   "source": [
    "## same as creatinga variable of int class\n",
    "a = 7"
   ]
  },
  {
   "cell_type": "code",
   "execution_count": 4,
   "id": "73820bec",
   "metadata": {},
   "outputs": [],
   "source": [
    "audiq7.milage = 10\n",
    "audiq7.year=20\n",
    "audiq7.make=345\n",
    "audiq7.model=\"dfds\""
   ]
  },
  {
   "cell_type": "code",
   "execution_count": 6,
   "id": "eeb73fcb",
   "metadata": {},
   "outputs": [
    {
     "data": {
      "text/plain": [
       "int"
      ]
     },
     "execution_count": 6,
     "metadata": {},
     "output_type": "execute_result"
    }
   ],
   "source": [
    "audiq7.make"
   ]
  },
  {
   "cell_type": "code",
   "execution_count": 7,
   "id": "a9c0b397",
   "metadata": {},
   "outputs": [],
   "source": [
    "nano= car()"
   ]
  },
  {
   "cell_type": "code",
   "execution_count": 10,
   "id": "76414bdc",
   "metadata": {},
   "outputs": [],
   "source": [
    "nano.milage = 210\n",
    "nano.year=20\n",
    "nano.make=345\n",
    "nano.model=\"dfds\"\n",
    "nano.engine=123142"
   ]
  },
  {
   "cell_type": "code",
   "execution_count": 11,
   "id": "4f0dfadc",
   "metadata": {},
   "outputs": [
    {
     "name": "stdout",
     "output_type": "stream",
     "text": [
      "210 10\n"
     ]
    }
   ],
   "source": [
    "print(nano.milage,audiq7.milage)"
   ]
  },
  {
   "cell_type": "code",
   "execution_count": 18,
   "id": "b7bf96a2",
   "metadata": {},
   "outputs": [],
   "source": [
    "class car:\n",
    "## self.milage is classvar\n",
    "## self is a pointer to car itself \n",
    "    def __init__(self, milage,year, make, model):\n",
    "        self.milage=milage\n",
    "        self.year=year\n",
    "        self.make=make\n",
    "        self.model=model"
   ]
  },
  {
   "cell_type": "code",
   "execution_count": 19,
   "id": "55877149",
   "metadata": {},
   "outputs": [],
   "source": [
    "## nano1 is a variable of car\n",
    "nano1 = car(20,20,23123,\"asca\")\n",
    "audiq8 = car(20,20,23123,\"asca\")"
   ]
  },
  {
   "cell_type": "code",
   "execution_count": 22,
   "id": "3f9d3045",
   "metadata": {},
   "outputs": [
    {
     "data": {
      "text/plain": [
       "20"
      ]
     },
     "execution_count": 22,
     "metadata": {},
     "output_type": "execute_result"
    }
   ],
   "source": [
    "nano1.milage"
   ]
  },
  {
   "cell_type": "code",
   "execution_count": 23,
   "id": "cad04709",
   "metadata": {},
   "outputs": [],
   "source": [
    "class car:\n",
    "## self.milage is classvar\n",
    "## self is a pointer to car itself \n",
    "## a.milage is a class variable\n",
    "## you should call this car variable to access its value\n",
    "    def __init__(a, m,y, ma, mo):\n",
    "        a.milage=m\n",
    "        a.year=y\n",
    "        a.make=ma\n",
    "        a.model=mo"
   ]
  },
  {
   "cell_type": "code",
   "execution_count": 24,
   "id": "cdd6ffdb",
   "metadata": {},
   "outputs": [],
   "source": [
    "audiq8 = car(50,20,23123,\"asca\")"
   ]
  },
  {
   "cell_type": "code",
   "execution_count": 25,
   "id": "7f1d9d9a",
   "metadata": {},
   "outputs": [
    {
     "ename": "AttributeError",
     "evalue": "'car' object has no attribute 'm'",
     "output_type": "error",
     "traceback": [
      "\u001b[1;31m---------------------------------------------------------------------------\u001b[0m",
      "\u001b[1;31mAttributeError\u001b[0m                            Traceback (most recent call last)",
      "\u001b[1;32m<ipython-input-25-9bb2d91e83b1>\u001b[0m in \u001b[0;36m<module>\u001b[1;34m\u001b[0m\n\u001b[1;32m----> 1\u001b[1;33m \u001b[0maudiq8\u001b[0m\u001b[1;33m.\u001b[0m\u001b[0mm\u001b[0m\u001b[1;33m\u001b[0m\u001b[1;33m\u001b[0m\u001b[0m\n\u001b[0m",
      "\u001b[1;31mAttributeError\u001b[0m: 'car' object has no attribute 'm'"
     ]
    }
   ],
   "source": [
    "audiq8.m"
   ]
  },
  {
   "cell_type": "code",
   "execution_count": 26,
   "id": "b35a9ace",
   "metadata": {},
   "outputs": [
    {
     "data": {
      "text/plain": [
       "50"
      ]
     },
     "execution_count": 26,
     "metadata": {},
     "output_type": "execute_result"
    }
   ],
   "source": [
    "audiq8.milage"
   ]
  },
  {
   "cell_type": "code",
   "execution_count": 60,
   "id": "bf0aed31",
   "metadata": {},
   "outputs": [],
   "source": [
    "class car:\n",
    "## self.milage is classvar\n",
    "## self is a pointer to car itself \n",
    "## a.milage is a class variable\n",
    "## you should call this car variable to access its value\n",
    "    def __init__(a, m,y, ma, mo):\n",
    "        a.milage=m\n",
    "        a.year=y\n",
    "        a.make=ma\n",
    "        a.model=mo\n",
    "## self is pointer for age function\n",
    "    def age(self,current_year):\n",
    "        return current_year - self.year\n",
    "    def milage1(self):\n",
    "        print(\"This is car milage\",self.milage)\n",
    "## always create pointer because it behaves a linkage to the car class so you can access this function\n",
    "    def __str__(c):\n",
    "        return \"This is my car class i have created\""
   ]
  },
  {
   "cell_type": "code",
   "execution_count": 61,
   "id": "11515241",
   "metadata": {},
   "outputs": [],
   "source": [
    "audip8 = car(50,20,453,\"dfs\")"
   ]
  },
  {
   "cell_type": "code",
   "execution_count": 62,
   "id": "c43c2324",
   "metadata": {},
   "outputs": [
    {
     "data": {
      "text/plain": [
       "<bound method car.age of <__main__.car object at 0x000002B2732FFEB8>>"
      ]
     },
     "execution_count": 62,
     "metadata": {},
     "output_type": "execute_result"
    }
   ],
   "source": [
    "audip8.age"
   ]
  },
  {
   "cell_type": "code",
   "execution_count": 63,
   "id": "644ee9ab",
   "metadata": {},
   "outputs": [
    {
     "data": {
      "text/plain": [
       "4"
      ]
     },
     "execution_count": 63,
     "metadata": {},
     "output_type": "execute_result"
    }
   ],
   "source": [
    "audip8.age(24)"
   ]
  },
  {
   "cell_type": "code",
   "execution_count": 64,
   "id": "84bf8c49",
   "metadata": {},
   "outputs": [
    {
     "name": "stdout",
     "output_type": "stream",
     "text": [
      "This is car milage 50\n"
     ]
    }
   ],
   "source": [
    "audip8.milage1()"
   ]
  },
  {
   "cell_type": "code",
   "execution_count": 59,
   "id": "12bbd99a",
   "metadata": {},
   "outputs": [
    {
     "data": {
      "text/plain": [
       "<__main__.car at 0x2b2732ff6a0>"
      ]
     },
     "execution_count": 59,
     "metadata": {},
     "output_type": "execute_result"
    }
   ],
   "source": [
    "audip8"
   ]
  },
  {
   "cell_type": "code",
   "execution_count": 65,
   "id": "46cf9d24",
   "metadata": {},
   "outputs": [
    {
     "name": "stdout",
     "output_type": "stream",
     "text": [
      "This is my car class i have created\n"
     ]
    }
   ],
   "source": [
    "print(audip8)"
   ]
  },
  {
   "cell_type": "code",
   "execution_count": 89,
   "id": "b387ae3e",
   "metadata": {},
   "outputs": [],
   "source": [
    "class student:\n",
    "    def __init__(self,name,rollno,joining_date,current_topic):\n",
    "        self.name=name\n",
    "        self.rollno=rollno\n",
    "        self.joining_date=joining_date\n",
    "        self.current_topic = current_topic\n",
    "        \n",
    "    def name_parsing(self):\n",
    "        if type(self.name)==list:\n",
    "            for i in self.name:\n",
    "                print(\"Name of the student is \",i)\n",
    "        else:\n",
    "            print(\"Not given in List\")\n",
    "    \n",
    "    def crt_topic(self):\n",
    "        print(\"This is your current topic\",self.current_topic)\n",
    "        \n",
    "    def str_rollno(self):\n",
    "        if type(self.rollno) == str:\n",
    "            print(\"Do nothing\")\n",
    "        else:\n",
    "            return str(self.rollno)\n",
    "        \n",
    "    def duration(self,current_date):\n",
    "        print(\"duration of my class is \",current_date - self.joining_date)\n",
    "    def __str__(self):\n",
    "        return \"this is student class where you try to input there own data and they can try to fetch it\"\n",
    "      "
   ]
  },
  {
   "cell_type": "code",
   "execution_count": 90,
   "id": "3e8c5046",
   "metadata": {},
   "outputs": [],
   "source": [
    "Akash = student(\"Akash\",3,2021,\"OOPS\")"
   ]
  },
  {
   "cell_type": "code",
   "execution_count": 91,
   "id": "dd836939",
   "metadata": {},
   "outputs": [
    {
     "name": "stdout",
     "output_type": "stream",
     "text": [
      "duration of my class is  1\n"
     ]
    }
   ],
   "source": [
    "Akash.duration(2022)"
   ]
  },
  {
   "cell_type": "code",
   "execution_count": 92,
   "id": "e1899f92",
   "metadata": {},
   "outputs": [
    {
     "data": {
      "text/plain": [
       "'3'"
      ]
     },
     "execution_count": 92,
     "metadata": {},
     "output_type": "execute_result"
    }
   ],
   "source": [
    "Akash.str_rollno()"
   ]
  },
  {
   "cell_type": "code",
   "execution_count": 93,
   "id": "b64c59c3",
   "metadata": {},
   "outputs": [
    {
     "name": "stdout",
     "output_type": "stream",
     "text": [
      "this is student class where you try to input there own data and they can try to fetch it\n"
     ]
    }
   ],
   "source": [
    "print(Akash)"
   ]
  },
  {
   "cell_type": "code",
   "execution_count": 94,
   "id": "63ebde9f",
   "metadata": {},
   "outputs": [],
   "source": [
    "Ketan = student(\"ketan\",\"sada\",2021,3121)"
   ]
  },
  {
   "cell_type": "code",
   "execution_count": 95,
   "id": "b1b02dca",
   "metadata": {},
   "outputs": [],
   "source": [
    "adi= student(['naveen','jay','himanshu','prakash'],[23,23,44,55],[2021,2022,2023,2024],[\"OOPS\",\"Java\"])"
   ]
  },
  {
   "cell_type": "code",
   "execution_count": 96,
   "id": "4b4d74ee",
   "metadata": {},
   "outputs": [
    {
     "name": "stdout",
     "output_type": "stream",
     "text": [
      "Name of the student is  naveen\n",
      "Name of the student is  jay\n",
      "Name of the student is  himanshu\n",
      "Name of the student is  prakash\n"
     ]
    }
   ],
   "source": [
    "adi.name_parsing()"
   ]
  },
  {
   "cell_type": "code",
   "execution_count": null,
   "id": "8db7b703",
   "metadata": {},
   "outputs": [],
   "source": [
    "#1)\n",
    "# Create a class 'Data'\n",
    "\n",
    "# Create class variable called 'filename'-list or dict or tuple or normal, 'file_type', 'date','size'\n",
    "\n",
    "# create a function 'file_open'. Responsible for try to take file name and try to create the file name if nor exist and write some data.\n",
    "\n",
    "# Create another function 'file_read'. It should take file name and suppose to read and return the data in it\n",
    "\n",
    "# Create a function 'file_append'. Insert some new data in same file and show the data\n",
    "\n",
    "\n",
    "#2)\n",
    "\n",
    "# Implememt exception handling.\n",
    "\n",
    "# Implement logger inside it. Do not call log directly . Create a separate method for that and call that function whenever you want to log something.\n"
   ]
  },
  {
   "cell_type": "code",
   "execution_count": null,
   "id": "7c0f9e66",
   "metadata": {},
   "outputs": [],
   "source": [
    "import os\n",
    "class data:\n",
    "    def __init__(self,fn,ft,dt,sz):\n",
    "        self.file_name=fn\n",
    "        self.file_type=ft\n",
    "        self.date=dt\n",
    "        self.size=sz\n",
    "    def file_open(self):\n",
    "            f = open(self.file_name+\".txt\",\"w+\")\n",
    "            f.write(\"This is a file created\")\n",
    "            f.close()     \n",
    "    \n",
    "    def file_read(self):\n",
    "        try:\n",
    "            f = open(self.file_name+\".txt\",\"r\")\n",
    "            f.read()\n",
    "            f.close()\n",
    "        except Exception as e:\n",
    "            print(e)\n",
    "        \n",
    "        \n",
    "    def file_append(self,overwrite):\n",
    "        self.overwrite=overwrite\n",
    "        try:\n",
    "            f = open(self.file_name+\".txt\",\"a\")\n",
    "            f.write(self.overwrite)\n",
    "            f.close()\n",
    "        except Exception as e:\n",
    "            print(e)\n",
    "    def logger(self)\n",
    "        \n",
    "        "
   ]
  },
  {
   "cell_type": "code",
   "execution_count": null,
   "id": "29715c73",
   "metadata": {},
   "outputs": [],
   "source": [
    "import os\n",
    "import logging as lg\n",
    "lg.basicConfig(filename='oops.log',level=lg.INFO,format = '%(name)s - %(asctime)s - %(levelname)s - %(message)s')\n",
    "class data:\n",
    "    def __init__(self, filename, filetype, date, size):\n",
    "        self.filename = filename\n",
    "        self.filetype = filetype\n",
    "        self.date = date\n",
    "        self.size = size\n",
    "        \n",
    "    def File_open(self):\n",
    "        lst = os.listdir()\n",
    "        if self.filename is not os.listdir():\n",
    "            f = open(self.filename, 'w')\n",
    "            f.write(\"This is the file content\")\n",
    "            lg.info(\"Wrote the file\") \n",
    "            lg.info(self.filename) \n",
    "            f.close()\n",
    "        else:\n",
    "            print(\"file already exists\")\n",
    "    def File_read(self):\n",
    "        try:\n",
    "            f = open(self.filename, 'r')\n",
    "            for i in f:\n",
    "                print(i)\n",
    "            f.close()\n",
    "        except Exception as e:\n",
    "            print(\"file doesn't exist\", e)\n",
    "            \n",
    "    def File_append(self):\n",
    "        try:\n",
    "            f = open(self.filename, 'a')\n",
    "            f.write(\"Hello everyone\")\n",
    "            lg.info(\"appended to the file\") "
   ]
  },
  {
   "cell_type": "code",
   "execution_count": null,
   "id": "59bda4b5",
   "metadata": {},
   "outputs": [],
   "source": []
  }
 ],
 "metadata": {
  "kernelspec": {
   "display_name": "Python 3",
   "language": "python",
   "name": "python3"
  },
  "language_info": {
   "codemirror_mode": {
    "name": "ipython",
    "version": 3
   },
   "file_extension": ".py",
   "mimetype": "text/x-python",
   "name": "python",
   "nbconvert_exporter": "python",
   "pygments_lexer": "ipython3",
   "version": "3.6.9"
  }
 },
 "nbformat": 4,
 "nbformat_minor": 5
}
